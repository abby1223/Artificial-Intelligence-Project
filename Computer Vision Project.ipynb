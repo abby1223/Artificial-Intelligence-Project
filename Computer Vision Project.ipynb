{
 "cells": [
  {
   "cell_type": "markdown",
   "id": "652a60b8",
   "metadata": {},
   "source": [
    "# Computer Vision"
   ]
  },
  {
   "cell_type": "markdown",
   "id": "b5996040",
   "metadata": {},
   "source": [
    "### Importing Necessary Liabraries "
   ]
  },
  {
   "cell_type": "code",
   "execution_count": 1,
   "id": "52d7aad8",
   "metadata": {},
   "outputs": [],
   "source": [
    "import numpy as np\n",
    "import cv2"
   ]
  },
  {
   "cell_type": "markdown",
   "id": "a60ba7d2",
   "metadata": {},
   "source": [
    "### Face Detection"
   ]
  },
  {
   "cell_type": "markdown",
   "id": "159c6afe",
   "metadata": {},
   "source": [
    "#### First Lets Read An Image"
   ]
  },
  {
   "cell_type": "code",
   "execution_count": 2,
   "id": "373f2405",
   "metadata": {},
   "outputs": [],
   "source": [
    "img = cv2.imread('Single image.jpg')\n",
    "\n",
    "cv2.imshow('Image',img)\n",
    "cv2.waitKey(0)\n",
    "cv2.destroyAllWindows()"
   ]
  },
  {
   "cell_type": "markdown",
   "id": "8523e764",
   "metadata": {},
   "source": [
    "#### Lets Load Casacade Classifier :- FrontalFace & Apply Casacade Classifier To An Image"
   ]
  },
  {
   "cell_type": "code",
   "execution_count": 3,
   "id": "b68de3c7",
   "metadata": {},
   "outputs": [],
   "source": [
    "face_casacade = cv2.CascadeClassifier('./haarcascade_frontalface_default.xml')\n",
    "faces,num_detection = face_casacade.detectMultiScale2(img)"
   ]
  },
  {
   "cell_type": "code",
   "execution_count": 4,
   "id": "8f0c5aee",
   "metadata": {},
   "outputs": [
    {
     "name": "stdout",
     "output_type": "stream",
     "text": [
      "[[ 91  63 266 266]]\n"
     ]
    }
   ],
   "source": [
    "print(faces)"
   ]
  },
  {
   "cell_type": "code",
   "execution_count": 5,
   "id": "20a84fb2",
   "metadata": {},
   "outputs": [
    {
     "name": "stdout",
     "output_type": "stream",
     "text": [
      "[77]\n"
     ]
    }
   ],
   "source": [
    "print(num_detection)"
   ]
  },
  {
   "cell_type": "markdown",
   "id": "8a9715a0",
   "metadata": {},
   "source": [
    "#### Lets Detect The Face With Rectangle Shape"
   ]
  },
  {
   "cell_type": "code",
   "execution_count": 6,
   "id": "310e54b8",
   "metadata": {},
   "outputs": [],
   "source": [
    "r1 = (91,63)\n",
    "r2 = (91+266 , 63+266)\n",
    "cv2.rectangle(img,r1,r2,(0,255,0))\n",
    "cv2.imshow('Face Detection',img)\n",
    "cv2.waitKey(0)\n",
    "cv2.destroyAllWindows()"
   ]
  },
  {
   "cell_type": "markdown",
   "id": "9841d396",
   "metadata": {},
   "source": [
    "#### Lets Detect The Face With Circle Shape"
   ]
  },
  {
   "cell_type": "code",
   "execution_count": 7,
   "id": "d3d9dc83",
   "metadata": {},
   "outputs": [],
   "source": [
    "c1 = 91+266//2\n",
    "c2 = 63+266//2\n",
    "r = 266//2\n",
    "cv2.circle(img,(c1,c2),r,(0,255,255),2)\n",
    "cv2.imshow('Face Detection Circle',img)\n",
    "cv2.waitKey(0)\n",
    "cv2.destroyAllWindows()"
   ]
  },
  {
   "cell_type": "markdown",
   "id": "5f0a0a3c",
   "metadata": {},
   "source": [
    "#### Lets Detect Multiple Faces With Rectangle Shape"
   ]
  },
  {
   "cell_type": "code",
   "execution_count": 8,
   "id": "7980815f",
   "metadata": {},
   "outputs": [],
   "source": [
    "img1 = cv2.imread('Group photo.jpg')\n",
    "\n",
    "cv2.imshow('Group Image',img1)\n",
    "cv2.waitKey(0)\n",
    "cv2.destroyAllWindows()"
   ]
  },
  {
   "cell_type": "code",
   "execution_count": 9,
   "id": "29d869db",
   "metadata": {},
   "outputs": [],
   "source": [
    "face_casacade1 = cv2.CascadeClassifier('./haarcascade_frontalface_default.xml')\n",
    "faces1,num_detection1 = face_casacade1.detectMultiScale2(img1,minNeighbors=8)\n",
    "\n",
    "for x,y,h,w in faces1:\n",
    "    cv2.rectangle(img1,(x,y),(x+h,y+w),(0,255,0))\n",
    "    \n",
    "cv2.imshow('Group Image Detection',img1)\n",
    "cv2.waitKey(0)\n",
    "cv2.destroyAllWindows()"
   ]
  },
  {
   "cell_type": "markdown",
   "id": "fe72f18d",
   "metadata": {},
   "source": [
    "### Eyes Detection"
   ]
  },
  {
   "cell_type": "markdown",
   "id": "c03ea376",
   "metadata": {},
   "source": [
    "#### Lets Detect Multiple Eyes With Rectangle Shape"
   ]
  },
  {
   "cell_type": "code",
   "execution_count": 10,
   "id": "aace4ff0",
   "metadata": {},
   "outputs": [],
   "source": [
    "faceclassifier=cv2.CascadeClassifier(\"haarcascade_frontalface_default.xml\")\n",
    "eyeclassifier=cv2.CascadeClassifier(\"haarcascade_eye.xml\")\n",
    "image=cv2.imread(\"./Group photo.jpg\")\n",
    "gray=cv2.cvtColor(image,cv2.COLOR_BGR2GRAY)\n",
    "faces=faceclassifier.detectMultiScale(gray,1.3,5)\n",
    "\n",
    "if len (faces) == 0:\n",
    "      print(\"No Face Detected\")\n",
    "\n",
    "for (x,y,w,h) in faces:\n",
    "    cv2.rectangle(image,(x,y),(x+w,y+h),(0,0,255),2)\n",
    "    cv2.imshow(\"Eye Detection\",image)\n",
    "\n",
    "    roigrey=gray[y:y+h,x:x+w]\n",
    "    roiimage=image[y:y+h,x:x+w]\n",
    "    eyes=eyeclassifier.detectMultiScale(roigrey)\n",
    "\n",
    "for (ex,ey,ew,eh) in eyes:\n",
    "    cv2.rectangle(roiimage,(ex,ey),(ex+ew,ey+eh),(255,0,0),2)\n",
    "    cv2.imshow(\"Eye Detection\",image)\n",
    "\n",
    "cv2.waitKey(0)\n",
    "cv2.destroyAllWindows()"
   ]
  },
  {
   "cell_type": "markdown",
   "id": "06d2d6fe",
   "metadata": {},
   "source": [
    "### Face & Eyes Detection"
   ]
  },
  {
   "cell_type": "markdown",
   "id": "b3c39008",
   "metadata": {},
   "source": [
    "#### Lets Detect Face & Eyes In The Video"
   ]
  },
  {
   "cell_type": "code",
   "execution_count": 11,
   "id": "797b5363",
   "metadata": {},
   "outputs": [],
   "source": [
    "faceclassifier1=cv2.CascadeClassifier(\"haarcascade_frontalface_default.xml\")\n",
    "eyeclassifier1=cv2.CascadeClassifier(\"haarcascade_eye.xml\")\n",
    "cap = cv2.VideoCapture('./Video.mp4')\n",
    "while cap.isOpened():\n",
    "    _, img4 = cap.read()\n",
    "    gray = cv2.cvtColor(img4,cv2.COLOR_BGR2GRAY)\n",
    "    faces3 = faceclassifier1.detectMultiScale(gray,1.1,4)\n",
    "    \n",
    "    for (x,y,w,h) in faces3:\n",
    "        cv2.rectangle(img4,(x,y),(x+w,y+h),(0,0,255),2)\n",
    "        roigrey1=gray[y:y+h,x:x+w]\n",
    "        roiimage1=img4[y:y+h,x:x+w]\n",
    "        eyes1 = eyeclassifier1.detectMultiScale(roigrey1)\n",
    "        for (ex,ey,ew,eh) in eyes1:\n",
    "            cv2.rectangle(roiimage1,(ex,ey),(ex+ew,ey+eh),(255,0,0),2)\n",
    "            \n",
    "    cv2.imshow('v5',img4)\n",
    "    if cv2.waitKey(1) & 0xFF == ord('q'):\n",
    "        break\n",
    "        \n",
    "cap.release()\n",
    "cv2.destroyAllWindows()"
   ]
  },
  {
   "cell_type": "markdown",
   "id": "1a2de94e",
   "metadata": {},
   "source": [
    "### FullBody Detection"
   ]
  },
  {
   "cell_type": "markdown",
   "id": "1c33bf42",
   "metadata": {},
   "source": [
    "#### Lets Detect FullBody In The Video"
   ]
  },
  {
   "cell_type": "code",
   "execution_count": 12,
   "id": "231db438",
   "metadata": {
    "collapsed": true
   },
   "outputs": [
    {
     "ename": "error",
     "evalue": "OpenCV(4.8.1) D:\\a\\opencv-python\\opencv-python\\opencv\\modules\\imgproc\\src\\color.cpp:182: error: (-215:Assertion failed) !_src.empty() in function 'cv::cvtColor'\n",
     "output_type": "error",
     "traceback": [
      "\u001b[1;31m---------------------------------------------------------------------------\u001b[0m",
      "\u001b[1;31merror\u001b[0m                                     Traceback (most recent call last)",
      "Cell \u001b[1;32mIn[12], line 6\u001b[0m\n\u001b[0;32m      4\u001b[0m \u001b[38;5;28;01mwhile\u001b[39;00m cap\u001b[38;5;241m.\u001b[39misOpened():\n\u001b[0;32m      5\u001b[0m     flag,frame \u001b[38;5;241m=\u001b[39m cap\u001b[38;5;241m.\u001b[39mread()\n\u001b[1;32m----> 6\u001b[0m     gray \u001b[38;5;241m=\u001b[39m \u001b[43mcv2\u001b[49m\u001b[38;5;241;43m.\u001b[39;49m\u001b[43mcvtColor\u001b[49m\u001b[43m(\u001b[49m\u001b[43mframe\u001b[49m\u001b[43m,\u001b[49m\u001b[43mcv2\u001b[49m\u001b[38;5;241;43m.\u001b[39;49m\u001b[43mCOLOR_BGR2GRAY\u001b[49m\u001b[43m)\u001b[49m\n\u001b[0;32m      7\u001b[0m     bodies \u001b[38;5;241m=\u001b[39m fullbody_classifier\u001b[38;5;241m.\u001b[39mdetectMultiScale(gray,\u001b[38;5;241m1.2\u001b[39m,\u001b[38;5;241m3\u001b[39m)\n\u001b[0;32m      9\u001b[0m     \u001b[38;5;28;01mfor\u001b[39;00m (x,y,w,h) \u001b[38;5;129;01min\u001b[39;00m bodies:\n",
      "\u001b[1;31merror\u001b[0m: OpenCV(4.8.1) D:\\a\\opencv-python\\opencv-python\\opencv\\modules\\imgproc\\src\\color.cpp:182: error: (-215:Assertion failed) !_src.empty() in function 'cv::cvtColor'\n"
     ]
    }
   ],
   "source": [
    "fullbody_classifier = cv2.CascadeClassifier(\"haarcascade_fullbody.xml\")\n",
    "\n",
    "cap = cv2.VideoCapture(\"./Single photo.jpg\")\n",
    "while cap.isOpened():\n",
    "    flag,frame = cap.read()\n",
    "    gray = cv2.cvtColor(frame,cv2.COLOR_BGR2GRAY)\n",
    "    bodies = fullbody_classifier.detectMultiScale(gray,1.2,3)\n",
    "\n",
    "    for (x,y,w,h) in bodies:\n",
    "        cv2.rectangle(frame,(x,y),(x+w,y+h),(0,0,255),2)\n",
    "        \n",
    "    cv2.imshow(\"Full Body Detection\",frame)\n",
    "    if cv2.waitKey(1) & 0xFF == ord('q'):\n",
    "        break\n",
    "\n",
    "cap.release()\n",
    "cv2.destroyAllWindows()"
   ]
  },
  {
   "cell_type": "code",
   "execution_count": null,
   "id": "fa7dadad",
   "metadata": {},
   "outputs": [],
   "source": []
  }
 ],
 "metadata": {
  "kernelspec": {
   "display_name": "Python 3 (ipykernel)",
   "language": "python",
   "name": "python3"
  },
  "language_info": {
   "codemirror_mode": {
    "name": "ipython",
    "version": 3
   },
   "file_extension": ".py",
   "mimetype": "text/x-python",
   "name": "python",
   "nbconvert_exporter": "python",
   "pygments_lexer": "ipython3",
   "version": "3.10.9"
  }
 },
 "nbformat": 4,
 "nbformat_minor": 5
}
